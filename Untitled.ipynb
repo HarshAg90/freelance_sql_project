{
 "cells": [
  {
   "cell_type": "code",
   "execution_count": 1,
   "id": "cd882110",
   "metadata": {},
   "outputs": [],
   "source": [
    "from flask import Flask, session, redirect, url_for\n",
    "from flask import render_template,request\n",
    "import pymysql\n",
    "from werkzeug.utils import secure_filename\n",
    "import os\n",
    "import pathlib\n",
    "from datetime import datetime \n",
    "\n",
    "def dbConnection():\n",
    "    try:\n",
    "        connection = pymysql.connect(host=\"localhost\", user=\"root\", password=\"root\", database=\"socailawareness\")\n",
    "        return connection\n",
    "    except:\n",
    "        print(\"Something went wrong in database Connection\")\n",
    "\n",
    "def dbClose():\n",
    "    try:\n",
    "        dbConnection().close()\n",
    "    except:\n",
    "        print(\"Something went wrong in Close DB Connection\")\n",
    "\n",
    "con = dbConnection()\n",
    "cursor = con.cursor()"
   ]
  },
  {
   "cell_type": "code",
   "execution_count": 13,
   "id": "62aa7511",
   "metadata": {},
   "outputs": [
    {
     "ename": "TypeError",
     "evalue": "'NoneType' object is not iterable",
     "output_type": "error",
     "traceback": [
      "\u001b[1;31m---------------------------------------------------------------------------\u001b[0m",
      "\u001b[1;31mTypeError\u001b[0m                                 Traceback (most recent call last)",
      "Cell \u001b[1;32mIn[13], line 7\u001b[0m\n\u001b[0;32m      5\u001b[0m row \u001b[38;5;241m=\u001b[39m cursor\u001b[38;5;241m.\u001b[39mfetchone()\n\u001b[0;32m      6\u001b[0m \u001b[38;5;28;01mif\u001b[39;00m row \u001b[38;5;241m==\u001b[39m \u001b[38;5;28;01mNone\u001b[39;00m:\n\u001b[1;32m----> 7\u001b[0m     infolist \u001b[38;5;241m=\u001b[39m \u001b[38;5;28;43mlist\u001b[39;49m\u001b[43m(\u001b[49m\u001b[43minfolist\u001b[49m\u001b[43m)\u001b[49m\u001b[38;5;241m+\u001b[39m[\u001b[38;5;124m'\u001b[39m\u001b[38;5;124m-\u001b[39m\u001b[38;5;124m'\u001b[39m,\u001b[38;5;124m'\u001b[39m\u001b[38;5;124m-\u001b[39m\u001b[38;5;124m'\u001b[39m,\u001b[38;5;124m'\u001b[39m\u001b[38;5;124m-\u001b[39m\u001b[38;5;124m'\u001b[39m,\u001b[38;5;124m'\u001b[39m\u001b[38;5;124m-\u001b[39m\u001b[38;5;124m'\u001b[39m,\u001b[38;5;124m'\u001b[39m\u001b[38;5;124m-\u001b[39m\u001b[38;5;124m'\u001b[39m]\n\u001b[0;32m      8\u001b[0m \u001b[38;5;28;01melse\u001b[39;00m:\n\u001b[0;32m      9\u001b[0m     infolist \u001b[38;5;241m=\u001b[39m \u001b[38;5;28mlist\u001b[39m(infolist)\u001b[38;5;241m+\u001b[39m\u001b[38;5;28mlist\u001b[39m(row)\n",
      "\u001b[1;31mTypeError\u001b[0m: 'NoneType' object is not iterable"
     ]
    }
   ],
   "source": [
    "username = 'a'\n",
    "cursor.execute(\"SELECT email,phone,dob FROM userdetails WHERE username=%s\",(username))\n",
    "infolist = cursor.fetchone()\n",
    "cursor.execute(\"SELECT address,city,maritalstatus,Qualification,age FROM extrainfo WHERE username=%s\",(username))\n",
    "row = cursor.fetchone()\n",
    "if row == None:\n",
    "    infolist = list(infolist)+['-','-','-','-','-']\n",
    "else:\n",
    "    infolist = list(infolist)+list(row)\n",
    "print(infolist)"
   ]
  },
  {
   "cell_type": "code",
   "execution_count": null,
   "id": "4a4cbb40",
   "metadata": {},
   "outputs": [],
   "source": []
  },
  {
   "cell_type": "code",
   "execution_count": null,
   "id": "76c5e5cd",
   "metadata": {},
   "outputs": [],
   "source": []
  },
  {
   "cell_type": "code",
   "execution_count": 58,
   "id": "b0c5e25c",
   "metadata": {},
   "outputs": [],
   "source": [
    "# username='c'\n",
    "# cursor.execute(\"SELECT userdetails.uname,userdetails.lname,userdetails.profilepic,posts.postimage,posts.posttext,posts.timestamp FROM userdetails JOIN posts ON userdetails.username = posts.uploader WHERE posts.uploader = %s\",(username))\n",
    "# userpost = cursor.fetchall()\n",
    "# userpost = list(userpost)\n",
    "\n",
    "# cursor.execute(\"SELECT user2 FROM followunfollow WHERE user1=%s\",(username))\n",
    "# l = cursor.fetchall()\n",
    "# row = [item for sublist in l for item in sublist]\n",
    "# for i in row:\n",
    "#     cursor.execute(\"SELECT userdetails.uname,userdetails.lname,userdetails.profilepic,posts.postimage,posts.posttext,posts.timestamp FROM userdetails JOIN posts ON userdetails.username = posts.uploader WHERE posts.uploader = %s\",(i))\n",
    "#     data = cursor.fetchall()\n",
    "#     for j in data:\n",
    "#         userpost.append(j)"
   ]
  },
  {
   "cell_type": "code",
   "execution_count": null,
   "id": "182cfe54",
   "metadata": {},
   "outputs": [],
   "source": []
  },
  {
   "cell_type": "code",
   "execution_count": 59,
   "id": "85b3f2f3",
   "metadata": {},
   "outputs": [
    {
     "name": "stdout",
     "output_type": "stream",
     "text": [
      "09-08-2023 11:35\n",
      "09-08-2023 11:38\n",
      "10-08-2023 15:01\n",
      "10-08-2023 15:01\n",
      "10-08-2023 15:02\n"
     ]
    }
   ],
   "source": [
    "# sorted_data = sorted(userpost, key=lambda x: x[-1])  # Sort by the last element (timestamp)\n",
    "# for item in sorted_data:\n",
    "#     print(item[5])"
   ]
  },
  {
   "cell_type": "code",
   "execution_count": null,
   "id": "c5cd4d13",
   "metadata": {},
   "outputs": [],
   "source": []
  },
  {
   "cell_type": "code",
   "execution_count": 2,
   "id": "79bb7763",
   "metadata": {},
   "outputs": [],
   "source": [
    "# cursor.execute(\"SELECT username,uname,lname,profilepic FROM userdetails a WHERE NOT EXISTS(SELECT uname FROM followunfollow b WHERE b.user2 = a.username)and username!=%s\",('b'))\n",
    "# folowing_frnd = cursor.fetchall()\n",
    "# print(\"folowing_frnd\",folowing_frnd)  "
   ]
  },
  {
   "cell_type": "code",
   "execution_count": 3,
   "id": "68a039b9",
   "metadata": {},
   "outputs": [],
   "source": [
    "# username='e'\n",
    "# cursor.execute(\"SELECT username FROM userdetails WHERE username!=%s\",(username))\n",
    "# l = cursor.fetchall()\n",
    "# row = [item for sublist in l for item in sublist]\n",
    "# print(row)\n",
    "# folowing_frnd = []\n",
    "# for i in row:    \n",
    "#     cursor.execute(\"SELECT user2 FROM followunfollow WHERE user1=%s AND user2=%s\",(username,i))\n",
    "#     rows = cursor.fetchone()\n",
    "#     if rows == None:        \n",
    "#         cursor.execute(\"SELECT username,uname,lname,profilepic FROM userdetails WHERE username=%s\",(i))\n",
    "#         data = cursor.fetchone()\n",
    "#         folowing_frnd.append(data)\n",
    "# print(folowing_frnd)"
   ]
  },
  {
   "cell_type": "code",
   "execution_count": 9,
   "id": "cf5bf3e7",
   "metadata": {},
   "outputs": [
    {
     "name": "stdout",
     "output_type": "stream",
     "text": [
      "['c']\n",
      "(('b', 'Amol', 'Nerlekar', 'static/images/profilepic.png'), ('c', 'Roshan', 'Mundekar', 'static/posts/a/property4.jpg'), ('d', 'Sushant', 'Tawar', 'static/images/profilepic.png'))\n",
      "b\n",
      "c\n",
      "d\n",
      "[('c', 'Roshan', 'Mundekar', 'static/posts/a/property4.jpg')]\n"
     ]
    }
   ],
   "source": [
    "# username='a'\n",
    "# cursor.execute(\"SELECT user2 FROM followunfollow WHERE user1=%s\",(username))\n",
    "# l1 = cursor.fetchall()\n",
    "# row11 = [item for sublist in l1 for item in sublist]\n",
    "# print(row11)\n",
    "\n",
    "# cursor.execute(\"SELECT username,uname,lname,profilepic FROM userdetails WHERE username!=%s\",(username))\n",
    "# sdfdsf = cursor.fetchall()\n",
    "# print(sdfdsf)\n",
    "# folowed_frnd = []\n",
    "# for i in sdfdsf:\n",
    "#     print(i[0])\n",
    "#     if i[0] in row11 and len(row11) != 0:\n",
    "#         folowed_frnd.append(i)\n",
    "# print(folowed_frnd)"
   ]
  },
  {
   "cell_type": "code",
   "execution_count": null,
   "id": "ea841272",
   "metadata": {},
   "outputs": [],
   "source": []
  },
  {
   "cell_type": "code",
   "execution_count": null,
   "id": "25b0b13e",
   "metadata": {},
   "outputs": [],
   "source": []
  }
 ],
 "metadata": {
  "kernelspec": {
   "display_name": "Python 3 (ipykernel)",
   "language": "python",
   "name": "python3"
  },
  "language_info": {
   "codemirror_mode": {
    "name": "ipython",
    "version": 3
   },
   "file_extension": ".py",
   "mimetype": "text/x-python",
   "name": "python",
   "nbconvert_exporter": "python",
   "pygments_lexer": "ipython3",
   "version": "3.8.16"
  }
 },
 "nbformat": 4,
 "nbformat_minor": 5
}
